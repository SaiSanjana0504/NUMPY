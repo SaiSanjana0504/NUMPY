{
 "cells": [
  {
   "cell_type": "code",
   "execution_count": 1,
   "id": "f0300db3-9fe5-4fcf-a543-a5f1c8fd8a7d",
   "metadata": {},
   "outputs": [],
   "source": [
    "import numpy as np"
   ]
  },
  {
   "cell_type": "markdown",
   "id": "1c66c596-59c6-434f-af95-86d84aaf39c3",
   "metadata": {},
   "source": [
    "# ARRAY CREATION :\n",
    "various methods to create arrays"
   ]
  },
  {
   "cell_type": "code",
   "execution_count": 2,
   "id": "03861eea-14b2-49ac-8814-f08c2b849bd2",
   "metadata": {},
   "outputs": [
    {
     "name": "stdout",
     "output_type": "stream",
     "text": [
      "1D Array: [1 2 3 4 5]\n"
     ]
    }
   ],
   "source": [
    "# Create a 1D array\n",
    "array_1d = np.array([1, 2, 3, 4, 5])\n",
    "print(\"1D Array:\", array_1d)"
   ]
  },
  {
   "cell_type": "code",
   "execution_count": 3,
   "id": "2ed7abcd-c35d-461b-b4ea-5d6c828484bd",
   "metadata": {},
   "outputs": [
    {
     "name": "stdout",
     "output_type": "stream",
     "text": [
      "2D Array:\n",
      " [[1 2 3]\n",
      " [4 5 6]]\n"
     ]
    }
   ],
   "source": [
    "# Create a 2D array\n",
    "array_2d = np.array([[1, 2, 3], [4, 5, 6]])\n",
    "print(\"2D Array:\\n\", array_2d)"
   ]
  },
  {
   "cell_type": "code",
   "execution_count": 4,
   "id": "c4444b0c-28f8-42ae-bca9-1ffa7360210a",
   "metadata": {},
   "outputs": [
    {
     "name": "stdout",
     "output_type": "stream",
     "text": [
      "Zeros Array:\n",
      " [[0. 0. 0.]\n",
      " [0. 0. 0.]\n",
      " [0. 0. 0.]]\n"
     ]
    }
   ],
   "source": [
    "#creating an array with all zeros\n",
    "zeros_array = np.zeros((3, 3))\n",
    "print(\"Zeros Array:\\n\", zeros_array)"
   ]
  },
  {
   "cell_type": "code",
   "execution_count": 5,
   "id": "4bc03d2d-a711-400d-82c5-28ee378c01c9",
   "metadata": {},
   "outputs": [
    {
     "name": "stdout",
     "output_type": "stream",
     "text": [
      "Ones Array:\n",
      " [[1. 1. 1. 1.]\n",
      " [1. 1. 1. 1.]]\n"
     ]
    }
   ],
   "source": [
    "# Create an array with all ones\n",
    "ones_array = np.ones((2, 4))\n",
    "print(\"Ones Array:\\n\", ones_array)"
   ]
  },
  {
   "cell_type": "code",
   "execution_count": 6,
   "id": "e32f8ccb-6622-4b5e-a00f-4eb1f803714e",
   "metadata": {},
   "outputs": [
    {
     "name": "stdout",
     "output_type": "stream",
     "text": [
      "Range Array: [10 12 14 16 18]\n"
     ]
    }
   ],
   "source": [
    "# Create an array with a range of values\n",
    "range_array = np.arange(10, 20, 2)\n",
    "print(\"Range Array:\", range_array)"
   ]
  },
  {
   "cell_type": "markdown",
   "id": "2724c6b9-ac7a-4c7c-8134-7bcff43cb083",
   "metadata": {},
   "source": [
    "# DATA MANIPULATION :\n",
    "INDEXING :\n",
    "accessing specific elements in 1D and 2D arrays"
   ]
  },
  {
   "cell_type": "code",
   "execution_count": 7,
   "id": "b0cd27e5-27f7-4fa0-9244-ddd9b530a9c5",
   "metadata": {},
   "outputs": [
    {
     "name": "stdout",
     "output_type": "stream",
     "text": [
      "Element at index 2 in 1D Array: 3\n"
     ]
    }
   ],
   "source": [
    "# Access elements in a 1D array\n",
    "element_1d = array_1d[2]  \n",
    "print(\"Element at index 2 in 1D Array:\", element_1d)"
   ]
  },
  {
   "cell_type": "code",
   "execution_count": 8,
   "id": "c1a52eac-ff08-4180-9acf-24c9f911bab9",
   "metadata": {},
   "outputs": [
    {
     "name": "stdout",
     "output_type": "stream",
     "text": [
      "Element at (1, 2) in 2D Array: 6\n"
     ]
    }
   ],
   "source": [
    "# Access elements in a 2D array\n",
    "element_2d = array_2d[1, 2]  \n",
    "print(\"Element at (1, 2) in 2D Array:\", element_2d)"
   ]
  },
  {
   "cell_type": "markdown",
   "id": "c4750efc-b1ed-4872-8a14-e292c1bf71b2",
   "metadata": {},
   "source": [
    "SLICING :"
   ]
  },
  {
   "cell_type": "code",
   "execution_count": 9,
   "id": "7cd31d1c-abe6-4bb9-86c2-366ae1efb037",
   "metadata": {},
   "outputs": [
    {
     "name": "stdout",
     "output_type": "stream",
     "text": [
      "Slice of 1D Array [1:4]: [2 3 4]\n"
     ]
    }
   ],
   "source": [
    "# Slice a 1D array\n",
    "slice_1d = array_1d[1:4]  \n",
    "print(\"Slice of 1D Array [1:4]:\", slice_1d)"
   ]
  },
  {
   "cell_type": "code",
   "execution_count": 10,
   "id": "e2544e7a-9a80-4276-a64b-06838ec6ca13",
   "metadata": {},
   "outputs": [
    {
     "name": "stdout",
     "output_type": "stream",
     "text": [
      "Slice of 2D Array [0:2, 1:3]:\n",
      " [[2 3]\n",
      " [5 6]]\n"
     ]
    }
   ],
   "source": [
    "# Slice a 2D array\n",
    "slice_2d = array_2d[0:2, 1:3] \n",
    "print(\"Slice of 2D Array [0:2, 1:3]:\\n\", slice_2d)"
   ]
  },
  {
   "cell_type": "markdown",
   "id": "aa7d9d1e-ab30-4ab2-a285-474d9dc44590",
   "metadata": {},
   "source": [
    "RESHAPING : CHANGING THE SHAPE OF AN ARRAY"
   ]
  },
  {
   "cell_type": "code",
   "execution_count": 11,
   "id": "685ca78d-95c8-41d1-a7a3-ee2c7d226dec",
   "metadata": {},
   "outputs": [
    {
     "name": "stdout",
     "output_type": "stream",
     "text": [
      "Reshaped 1D Array to 2D:\n",
      " [[1 2 3 4 5]]\n"
     ]
    }
   ],
   "source": [
    "# Reshape a 1D array to a 2D array\n",
    "reshaped_array = array_1d.reshape((1, 5))\n",
    "print(\"Reshaped 1D Array to 2D:\\n\", reshaped_array)"
   ]
  },
  {
   "cell_type": "code",
   "execution_count": 12,
   "id": "bef506c9-712a-45ed-b91d-940a8f5bdc21",
   "metadata": {},
   "outputs": [
    {
     "name": "stdout",
     "output_type": "stream",
     "text": [
      "Flattened 2D Array: [1 2 3 4 5 6]\n"
     ]
    }
   ],
   "source": [
    "flattened_array = array_2d.flatten()\n",
    "print(\"Flattened 2D Array:\", flattened_array)"
   ]
  },
  {
   "cell_type": "markdown",
   "id": "80107ed9-ba1d-4660-95cb-5c626766ec9a",
   "metadata": {},
   "source": [
    "# MATHEMATICAL OPERATIONS\n",
    "performing basic operations or matrix operations \n",
    "# basic operations "
   ]
  },
  {
   "cell_type": "code",
   "execution_count": 13,
   "id": "dd32b014-f570-4f6e-b9b6-63329a54810c",
   "metadata": {},
   "outputs": [
    {
     "name": "stdout",
     "output_type": "stream",
     "text": [
      "addition:\n",
      " [ 6  7  8  9 10]\n"
     ]
    }
   ],
   "source": [
    "# addition\n",
    "add_result = array_1d + 5\n",
    "print(\"addition:\\n\", add_result)"
   ]
  },
  {
   "cell_type": "code",
   "execution_count": 14,
   "id": "01232883-1021-451e-a4de-4b82f7d322a7",
   "metadata": {},
   "outputs": [
    {
     "name": "stdout",
     "output_type": "stream",
     "text": [
      "multiplication:\n",
      " [[ 2  4  6]\n",
      " [ 8 10 12]]\n"
     ]
    }
   ],
   "source": [
    "#multiplication\n",
    "mul_result = array_2d * 2\n",
    "print(\"multiplication:\\n\", mul_result)"
   ]
  },
  {
   "cell_type": "code",
   "execution_count": 15,
   "id": "65e5fcdf-0eb0-47c5-abf1-ad2772c775e3",
   "metadata": {},
   "outputs": [
    {
     "data": {
      "text/plain": [
       "1"
      ]
     },
     "execution_count": 15,
     "metadata": {},
     "output_type": "execute_result"
    }
   ],
   "source": [
    "# return no .of dimensions in array\n",
    "array_1d.ndim"
   ]
  },
  {
   "cell_type": "code",
   "execution_count": 16,
   "id": "ad4af995-2614-4812-b48c-9c2b637d7216",
   "metadata": {},
   "outputs": [
    {
     "data": {
      "text/plain": [
       "(5,)"
      ]
     },
     "execution_count": 16,
     "metadata": {},
     "output_type": "execute_result"
    }
   ],
   "source": [
    "# return the shape of array\n",
    "array_1d.shape"
   ]
  },
  {
   "cell_type": "code",
   "execution_count": 17,
   "id": "5463332c-e1e2-41bf-a666-1d790322a9d8",
   "metadata": {},
   "outputs": [
    {
     "data": {
      "text/plain": [
       "5"
      ]
     },
     "execution_count": 17,
     "metadata": {},
     "output_type": "execute_result"
    }
   ],
   "source": [
    "# return the size of array\n",
    "array_1d.size"
   ]
  },
  {
   "cell_type": "code",
   "execution_count": 18,
   "id": "1a8c43df-8e8a-4e7d-9c8d-8834b414745c",
   "metadata": {},
   "outputs": [
    {
     "data": {
      "text/plain": [
       "dtype('int32')"
      ]
     },
     "execution_count": 18,
     "metadata": {},
     "output_type": "execute_result"
    }
   ],
   "source": [
    "# return the data type of array\n",
    "array_2d.dtype"
   ]
  },
  {
   "cell_type": "code",
   "execution_count": 19,
   "id": "ff87fbb7-2650-4fe6-96dd-d73eb0054714",
   "metadata": {},
   "outputs": [
    {
     "name": "stdout",
     "output_type": "stream",
     "text": [
      "Matrix multiplication result:\n",
      " [[14]\n",
      " [32]]\n"
     ]
    }
   ],
   "source": [
    "# Matrix multiplication\n",
    "matrix_mult_result = np.dot(array_2d, np.array([[1], [2], [3]]))\n",
    "print(\"Matrix multiplication result:\\n\", matrix_mult_result)"
   ]
  },
  {
   "cell_type": "code",
   "execution_count": 20,
   "id": "eacfe814-9d74-4532-a1c7-f6fc4d302a99",
   "metadata": {},
   "outputs": [
    {
     "data": {
      "text/plain": [
       "4"
      ]
     },
     "execution_count": 20,
     "metadata": {},
     "output_type": "execute_result"
    }
   ],
   "source": [
    "# return the size of each element in array\n",
    "array_2d.itemsize"
   ]
  },
  {
   "cell_type": "code",
   "execution_count": 21,
   "id": "c4055a71-74df-45ef-9260-a72430b1e3cc",
   "metadata": {},
   "outputs": [],
   "source": [
    "n1=np.array([0,np.pi/2,np.pi])"
   ]
  },
  {
   "cell_type": "code",
   "execution_count": 22,
   "id": "ed75cc0e-c072-4adf-93b1-6a3f4f030d79",
   "metadata": {},
   "outputs": [
    {
     "data": {
      "text/plain": [
       "array([ 1.        ,  4.81047738, 23.14069263])"
      ]
     },
     "execution_count": 22,
     "metadata": {},
     "output_type": "execute_result"
    }
   ],
   "source": [
    "# exponential function\n",
    "np.exp(n1)"
   ]
  },
  {
   "cell_type": "code",
   "execution_count": 23,
   "id": "b3ea4b45-9352-407c-94ed-f9f40a64b8a2",
   "metadata": {},
   "outputs": [
    {
     "data": {
      "text/plain": [
       "array([0.0000000e+00, 1.0000000e+00, 1.2246468e-16])"
      ]
     },
     "execution_count": 23,
     "metadata": {},
     "output_type": "execute_result"
    }
   ],
   "source": [
    "np.sin(n1)"
   ]
  },
  {
   "cell_type": "code",
   "execution_count": 24,
   "id": "4a4f0a10-3df1-4325-86e3-f588fefe2462",
   "metadata": {},
   "outputs": [
    {
     "data": {
      "text/plain": [
       "array([ 1.000000e+00,  6.123234e-17, -1.000000e+00])"
      ]
     },
     "execution_count": 24,
     "metadata": {},
     "output_type": "execute_result"
    }
   ],
   "source": [
    "np.cos(n1)"
   ]
  },
  {
   "cell_type": "code",
   "execution_count": 25,
   "id": "0a4889fc-1604-4870-9a12-471f567616d9",
   "metadata": {},
   "outputs": [
    {
     "data": {
      "text/plain": [
       "array([ 0.00000000e+00,  1.63312394e+16, -1.22464680e-16])"
      ]
     },
     "execution_count": 25,
     "metadata": {},
     "output_type": "execute_result"
    }
   ],
   "source": [
    "np.tan(n1)"
   ]
  },
  {
   "cell_type": "code",
   "execution_count": 26,
   "id": "424dc784-543a-4822-adab-d076b1a03cb9",
   "metadata": {},
   "outputs": [
    {
     "data": {
      "text/plain": [
       "array([0.        , 1.25331414, 1.77245385])"
      ]
     },
     "execution_count": 26,
     "metadata": {},
     "output_type": "execute_result"
    }
   ],
   "source": [
    "np.sqrt(n1)"
   ]
  },
  {
   "cell_type": "markdown",
   "id": "50542265-2c27-4983-b4b9-03987cf7507f",
   "metadata": {},
   "source": [
    "# boolean indexing "
   ]
  },
  {
   "cell_type": "code",
   "execution_count": 27,
   "id": "59bb18ce-69a4-452e-bb5c-706301be15e4",
   "metadata": {},
   "outputs": [
    {
     "name": "stdout",
     "output_type": "stream",
     "text": [
      "Elements greater than 3 in 2D Array: [4 5 6]\n"
     ]
    }
   ],
   "source": [
    "bool_indexing = array_2d[array_2d > 3]  \n",
    "print(\"Elements greater than 3 in 2D Array:\", bool_indexing)"
   ]
  },
  {
   "cell_type": "markdown",
   "id": "9ac36a5e-09a4-406e-b7d8-b90ef115689b",
   "metadata": {},
   "source": [
    "# DATA AGGREGATION "
   ]
  },
  {
   "cell_type": "code",
   "execution_count": 28,
   "id": "2158be8a-c007-45df-aa98-5c03160675bb",
   "metadata": {},
   "outputs": [
    {
     "name": "stdout",
     "output_type": "stream",
     "text": [
      "[[13 18 77  4]\n",
      " [56 92 75 93]\n",
      " [ 7 55 78 22]\n",
      " [23 18 98 59]\n",
      " [72 67 44 56]]\n"
     ]
    }
   ],
   "source": [
    "data=np.random.randint(1,100,(5,4))\n",
    "print(data)"
   ]
  },
  {
   "cell_type": "markdown",
   "id": "f700d7e6-4937-470e-bfe9-75c1c7af6450",
   "metadata": {},
   "source": [
    "MEAN "
   ]
  },
  {
   "cell_type": "code",
   "execution_count": 29,
   "id": "699451ce-3299-430f-9fa6-15047d6d5384",
   "metadata": {},
   "outputs": [
    {
     "name": "stdout",
     "output_type": "stream",
     "text": [
      "Mean: 51.35\n"
     ]
    }
   ],
   "source": [
    "mean_value = np.mean(data)\n",
    "print(\"Mean:\", mean_value)"
   ]
  },
  {
   "cell_type": "markdown",
   "id": "75a14332-adf4-417f-a65c-358cd563ecad",
   "metadata": {},
   "source": [
    "MEDIAN"
   ]
  },
  {
   "cell_type": "code",
   "execution_count": 30,
   "id": "9f66bee5-2134-426d-9ac9-bd6465e25e5f",
   "metadata": {},
   "outputs": [
    {
     "name": "stdout",
     "output_type": "stream",
     "text": [
      "Median: 56.0\n"
     ]
    }
   ],
   "source": [
    "median_value = np.median(data)\n",
    "print(\"Median:\", median_value)"
   ]
  },
  {
   "cell_type": "markdown",
   "id": "362ff3b4-ee79-4219-af0e-4930c04bdfe3",
   "metadata": {},
   "source": [
    "STANDARD DEVIATION "
   ]
  },
  {
   "cell_type": "code",
   "execution_count": 31,
   "id": "aea303b4-cd8e-4c33-83db-31752bb3c8f9",
   "metadata": {},
   "outputs": [
    {
     "name": "stdout",
     "output_type": "stream",
     "text": [
      "Standard Deviation: 29.91701021158364\n"
     ]
    }
   ],
   "source": [
    "std_dev = np.std(data)\n",
    "print(\"Standard Deviation:\", std_dev)"
   ]
  },
  {
   "cell_type": "markdown",
   "id": "b18932d1-45dd-480f-b623-675fc0096638",
   "metadata": {},
   "source": [
    "SUM"
   ]
  },
  {
   "cell_type": "code",
   "execution_count": 32,
   "id": "2816b9c1-630d-41a0-8293-00ef12efbd9a",
   "metadata": {},
   "outputs": [
    {
     "name": "stdout",
     "output_type": "stream",
     "text": [
      "Sum: 1027\n"
     ]
    }
   ],
   "source": [
    "total_sum = np.sum(data)\n",
    "print(\"Sum:\", total_sum)"
   ]
  },
  {
   "cell_type": "code",
   "execution_count": 33,
   "id": "49f949a5-4f6e-4d34-9baa-b07a5ed4aeb9",
   "metadata": {},
   "outputs": [
    {
     "name": "stdout",
     "output_type": "stream",
     "text": [
      "percentile: 56.0\n"
     ]
    }
   ],
   "source": [
    "total_percentile=np.percentile(data,50)\n",
    "print(\"percentile:\",total_percentile)"
   ]
  },
  {
   "cell_type": "markdown",
   "id": "5408da98-313f-4c2c-b2c0-7f2a41eaff46",
   "metadata": {},
   "source": [
    "COMPUTE STATISTICS ALONG AXES"
   ]
  },
  {
   "cell_type": "code",
   "execution_count": 34,
   "id": "67ba2524-2830-40f0-b2c5-062434b2561a",
   "metadata": {},
   "outputs": [
    {
     "name": "stdout",
     "output_type": "stream",
     "text": [
      "Mean along rows: [28.   79.   40.5  49.5  59.75]\n"
     ]
    }
   ],
   "source": [
    "# Mean along rows (axis=1)\n",
    "mean_rows = np.mean(data, axis=1)\n",
    "print(\"Mean along rows:\", mean_rows)"
   ]
  },
  {
   "cell_type": "code",
   "execution_count": 35,
   "id": "ca3962c8-9844-4bc9-89d6-f15958615ca7",
   "metadata": {},
   "outputs": [
    {
     "name": "stdout",
     "output_type": "stream",
     "text": [
      "Mean along columns: [34.2 50.  74.4 46.8]\n"
     ]
    }
   ],
   "source": [
    "# Mean along columns (axis=0)\n",
    "mean_columns = np.mean(data, axis=0)\n",
    "print(\"Mean along columns:\", mean_columns)"
   ]
  },
  {
   "cell_type": "code",
   "execution_count": 36,
   "id": "4c0838aa-f080-42f8-86a2-054ed36b4e32",
   "metadata": {},
   "outputs": [
    {
     "name": "stdout",
     "output_type": "stream",
     "text": [
      "Median along rows: [15.5 83.5 38.5 41.  61.5]\n"
     ]
    }
   ],
   "source": [
    "# Median along rows (axis=1)\n",
    "median_rows = np.median(data, axis=1)\n",
    "print(\"Median along rows:\", median_rows)"
   ]
  },
  {
   "cell_type": "code",
   "execution_count": 37,
   "id": "33548c97-7c18-41c8-be61-30ad2f6f29d9",
   "metadata": {},
   "outputs": [
    {
     "name": "stdout",
     "output_type": "stream",
     "text": [
      "Median along columns: [23. 55. 77. 56.]\n"
     ]
    }
   ],
   "source": [
    "# Median along columns (axis=0)\n",
    "median_columns = np.median(data, axis=0)\n",
    "print(\"Median along columns:\", median_columns)"
   ]
  },
  {
   "cell_type": "code",
   "execution_count": 38,
   "id": "f632ea02-7a79-4ec8-a967-f4d3ef3ff923",
   "metadata": {},
   "outputs": [
    {
     "name": "stdout",
     "output_type": "stream",
     "text": [
      "Sum along columns: [171 250 372 234]\n"
     ]
    }
   ],
   "source": [
    "# Sum along columns (axis=0)\n",
    "sum_columns = np.sum(data, axis=0)\n",
    "print(\"Sum along columns:\", sum_columns)"
   ]
  },
  {
   "cell_type": "markdown",
   "id": "bff62f3b-e127-4f11-a915-56652040aec3",
   "metadata": {},
   "source": [
    "# DATA ANALYSIS USING NUMPY \n",
    "creating a sample dataset "
   ]
  },
  {
   "cell_type": "code",
   "execution_count": 39,
   "id": "a0edf241-0efe-498d-8097-39bbd18b24e9",
   "metadata": {},
   "outputs": [
    {
     "name": "stdout",
     "output_type": "stream",
     "text": [
      "Sample Data:\n",
      " [[54.88135039 71.51893664 60.27633761]\n",
      " [54.4883183  42.36547993 64.58941131]\n",
      " [43.75872113 89.17730008 96.36627605]\n",
      " [38.34415188 79.17250381 52.88949198]\n",
      " [56.80445611 92.55966383  7.10360582]]\n"
     ]
    }
   ],
   "source": [
    "np.random.seed(0) \n",
    "data = np.random.rand(1000, 3) * 100 \n",
    "print(\"Sample Data:\\n\", data[:5]) "
   ]
  },
  {
   "cell_type": "markdown",
   "id": "417b9a5f-427e-45a4-bd71-7028a838b1bd",
   "metadata": {},
   "source": [
    "finding coorelatations "
   ]
  },
  {
   "cell_type": "code",
   "execution_count": 41,
   "id": "c56bcd05-121c-43d1-bf53-eb2316544c63",
   "metadata": {},
   "outputs": [
    {
     "name": "stdout",
     "output_type": "stream",
     "text": [
      "Correlation Matrix:\n",
      " [[1.         0.01549005 0.06686736]\n",
      " [0.01549005 1.         0.03008067]\n",
      " [0.06686736 0.03008067 1.        ]]\n"
     ]
    }
   ],
   "source": [
    "# Compute the correlation matrix\n",
    "correlation_matrix = np.corrcoef(data, rowvar=False)\n",
    "print(\"Correlation Matrix:\\n\", correlation_matrix)"
   ]
  },
  {
   "cell_type": "markdown",
   "id": "9d6dacbb-c6f8-4ea0-950c-6500ddcaa593",
   "metadata": {},
   "source": [
    "identifying outliers"
   ]
  },
  {
   "cell_type": "code",
   "execution_count": 42,
   "id": "ea5dc433-001f-4cb4-95a8-1708a5a4817c",
   "metadata": {},
   "outputs": [
    {
     "name": "stdout",
     "output_type": "stream",
     "text": [
      "Outliers (boolean mask):\n",
      " [[False False False]\n",
      " [False False False]\n",
      " [False False False]\n",
      " [False False False]\n",
      " [False False False]]\n"
     ]
    }
   ],
   "source": [
    "from scipy import stats\n",
    "z_scores = np.abs(stats.zscore(data, axis=0))\n",
    "threshold = 3\n",
    "outliers = (z_scores > threshold)\n",
    "print(\"Outliers (boolean mask):\\n\", outliers[:5])"
   ]
  },
  {
   "cell_type": "markdown",
   "id": "539d402b-6f29-46bf-9bf7-1fd1e164d0a8",
   "metadata": {},
   "source": [
    "calculating percentiles"
   ]
  },
  {
   "cell_type": "code",
   "execution_count": 44,
   "id": "ed66c947-c040-4bc2-934a-7d422788f921",
   "metadata": {},
   "outputs": [
    {
     "name": "stdout",
     "output_type": "stream",
     "text": [
      "25th Percentile:\n",
      " [24.58891912 25.95436298 27.41549352]\n",
      "50th Percentile (Median):\n",
      " [50.47048025 49.83071758 49.90504209]\n",
      "75th Percentile:\n",
      " [77.09744017 75.64236137 75.52793214]\n"
     ]
    }
   ],
   "source": [
    "# Calculate percentiles for each feature\n",
    "percentiles_25 = np.percentile(data, 25, axis=0)\n",
    "percentiles_50 = np.percentile(data, 50, axis=0)\n",
    "percentiles_75 = np.percentile(data, 75, axis=0)\n",
    "\n",
    "print(\"25th Percentile:\\n\", percentiles_25)\n",
    "print(\"50th Percentile (Median):\\n\", percentiles_50)\n",
    "print(\"75th Percentile:\\n\", percentiles_75)"
   ]
  },
  {
   "cell_type": "markdown",
   "id": "57ec1c22-264b-4768-bc1c-25a36bf30b43",
   "metadata": {},
   "source": [
    "# NORMALISING DATA"
   ]
  },
  {
   "cell_type": "code",
   "execution_count": 45,
   "id": "ef8ae776-1725-4547-af32-ee54401ab5c3",
   "metadata": {},
   "outputs": [
    {
     "name": "stdout",
     "output_type": "stream",
     "text": [
      "Normalized Data:\n",
      " [[ 0.14563521  0.74332202  0.32774122]\n",
      " [ 0.13245741 -0.25700861  0.47815644]\n",
      " [-0.22729068  1.34922622  1.58635079]\n",
      " ...\n",
      " [-0.10113331 -0.72490168  1.29347258]\n",
      " [-0.73913842  1.52049433  0.13024615]\n",
      " [-0.60942758  1.08080574  0.65778068]]\n"
     ]
    }
   ],
   "source": [
    "# Normalize data (zero mean, unit variance)\n",
    "normalized_data = (data - np.mean(data, axis=0)) / np.std(data, axis=0)\n",
    "print(\"Normalized Data:\\n\", normalized_data)"
   ]
  },
  {
   "cell_type": "markdown",
   "id": "ff634933-49c9-4f7f-b266-aaa84797ecba",
   "metadata": {},
   "source": [
    "# CORRELATION AND COVARIANCE"
   ]
  },
  {
   "cell_type": "code",
   "execution_count": 46,
   "id": "f295a563-f4af-4155-a8f3-78752fc1dec9",
   "metadata": {},
   "outputs": [
    {
     "name": "stdout",
     "output_type": "stream",
     "text": [
      "Correlation Matrix:\n",
      " [[1.         0.01549005 0.06686736]\n",
      " [0.01549005 1.         0.03008067]\n",
      " [0.06686736 0.03008067 1.        ]]\n",
      "Covariance Matrix:\n",
      " [[890.43937236  13.47779076  57.24383263]\n",
      " [ 13.47779076 850.21250369  25.16306696]\n",
      " [ 57.24383263  25.16306696 823.04719294]]\n"
     ]
    }
   ],
   "source": [
    "# Compute correlation matrix\n",
    "correlation_matrix = np.corrcoef(data, rowvar=False)\n",
    "print(\"Correlation Matrix:\\n\", correlation_matrix)\n",
    "\n",
    "# Compute covariance matrix\n",
    "covariance_matrix = np.cov(data, rowvar=False)\n",
    "print(\"Covariance Matrix:\\n\", covariance_matrix)"
   ]
  },
  {
   "cell_type": "markdown",
   "id": "2b3c8554-860f-4a18-b532-06d52ff370dc",
   "metadata": {},
   "source": [
    "# APPLICATIONS OF DATA SCIENCE "
   ]
  },
  {
   "cell_type": "markdown",
   "id": "53614bcb-4c0a-47a5-a6fa-0124d33c0b54",
   "metadata": {},
   "source": [
    "In this program, the use of NumPy is a critical aspect for any data science professional due to its efficiency, versatility, and performance in handling numerical computations. NumPy, with its powerful n-dimensional array objects (ndarrays), provides a foundation for numerical analysis in Python that surpasses traditional Python data structures like lists and tuples.\n",
    "\n",
    "Advantages of Using NumPy over Traditional Python Data Structures\n",
    "1.Performance: NumPy arrays are stored in contiguous blocks of memory, unlike Python lists which are stored as an array of pointers. This leads to much faster execution of operations in NumPy, particularly when dealing with large datasets. Operations on NumPy arrays are implemented in C, which further accelerates computation.\n",
    "\n",
    "2.Memory Efficiency: NumPy arrays use significantly less memory than Python lists. This is crucial when working with large datasets, as it reduces the memory overhead and allows for efficient storage and manipulation of data.\n",
    "\n",
    "3.Vectorization: NumPy allows for vectorized operations, meaning that batch operations can be performed on entire arrays without the need for explicit loops. This not only makes the code more concise and readable but also significantly speeds up execution.\n",
    "\n",
    "4.Broad Functionality: NumPy provides a wide range of mathematical and statistical functions that are essential for data analysis. These include linear algebra operations, Fourier transformations, random number generation, and more, which are not only optimized but also easier to implement compared to traditional Python methods.\n",
    "\n",
    "5.Integration with Other Libraries: NumPy serves as the backbone for many other data science libraries like pandas, SciPy, scikit-learn, and TensorFlow. This makes it indispensable for anyone looking to work in the field of data science or machine learning.\n",
    "\n",
    "6.Advanced Mathematical Functions:NumPy provides a wide array of mathematical functions, including linear algebra, statistical operations, and Fourier transforms, all of which are optimized for performance. These functions are not only faster but also more reliable than manually implementing the same operations in pure Python.\n",
    "\n",
    "Integration with Other Libraries:\n",
    "\n",
    "NumPy serves as the foundational library for many other data science libraries like Pandas, Scikit-learn, TensorFlow, and SciPy. This integration allows for seamless data manipulation, machine learning model development, and scientific computing.\n",
    "Handling Multidimensional Data:\n",
    "\n",
    "Unlike Python lists, NumPy arrays can handle multidimensional data easily, making it possible to work with matrices, tensors, and higher-dimensional arrays. This is particularly useful in areas like image processing, where data often exists in multiple dimensions.\n",
    "\n",
    "\n",
    "Real-World Examples Where NumPy’s Capabilities Are Crucial\n",
    "1.Machine Learning: NumPy is heavily used in machine learning for operations such as matrix multiplication, which is fundamental for algorithms like linear regression, neural networks, and deep learning models. Libraries like TensorFlow and PyTorch rely on NumPy for tensor operations and gradient calculations.\n",
    "\n",
    "2.Financial Analysis: In finance, NumPy is used to perform large-scale simulations and calculations like Monte Carlo simulations, which are essential for risk analysis and option pricing. The ability to handle large datasets efficiently is crucial for processing financial data.\n",
    "\n",
    "3.Scientific Research: In scientific research, particularly in fields like physics, chemistry, and biology, NumPy is used for tasks such as image processing, signal processing, and solving differential equations. Its ability to handle multi-dimensional data arrays and perform complex mathematical operations makes it a go-to tool for scientists.\n",
    "\n",
    "4.Data Manipulation: NumPy’s broadcasting and advanced indexing capabilities allow for sophisticated data manipulation tasks that are required in big data analytics. This is essential for cleaning, transforming, and analyzing large datasets in a time-efficient manner.\n",
    "\n",
    "\n"
   ]
  },
  {
   "cell_type": "code",
   "execution_count": null,
   "id": "a0c4bb0b-4dde-4540-9099-f4d7821705e8",
   "metadata": {},
   "outputs": [],
   "source": []
  }
 ],
 "metadata": {
  "kernelspec": {
   "display_name": "Python 3 (ipykernel)",
   "language": "python",
   "name": "python3"
  },
  "language_info": {
   "codemirror_mode": {
    "name": "ipython",
    "version": 3
   },
   "file_extension": ".py",
   "mimetype": "text/x-python",
   "name": "python",
   "nbconvert_exporter": "python",
   "pygments_lexer": "ipython3",
   "version": "3.12.4"
  }
 },
 "nbformat": 4,
 "nbformat_minor": 5
}
